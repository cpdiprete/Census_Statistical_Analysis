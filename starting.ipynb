{
 "cells": [
  {
   "cell_type": "markdown",
   "id": "2e13f564",
   "metadata": {},
   "source": [
    "Getting familiar with DR. Mussman's research assignment"
   ]
  },
  {
   "cell_type": "code",
   "execution_count": 194,
   "id": "569aba39",
   "metadata": {},
   "outputs": [],
   "source": [
    "import pandas as pd\n",
    "import numpy as np\n",
    "import matplotlib.pyplot as plt\n",
    "import csv\n",
    "import sklearn\n",
    "import re"
   ]
  },
  {
   "cell_type": "code",
   "execution_count": 195,
   "id": "acb04882",
   "metadata": {},
   "outputs": [
    {
     "name": "stdout",
     "output_type": "stream",
     "text": [
      "[['Total population' '4,785,298' '*****' ... '1,936,867' '±2,651'\n",
      "  'Total population']\n",
      " ['AGE' nan nan ... nan nan 'AGE']\n",
      " ['\\xa0\\xa0\\xa0\\xa0Under 5 years' '6.4%' '±0.1' ... '5.5%' '±0.1'\n",
      "  'Under 5 years']\n",
      " ...\n",
      " ['PERCENT IMPUTED' nan nan ... nan nan 'PERCENT IMPUTED']\n",
      " ['\\xa0\\xa0\\xa0\\xa0Sex' '0.1%' '(X)' ... '(X)' '(X)' 'Sex']\n",
      " ['\\xa0\\xa0\\xa0\\xa0Age' '1.1%' '(X)' ... '(X)' '(X)' 'Age']]\n"
     ]
    }
   ],
   "source": [
    "df = pd.read_csv(\"data/ACSST1Y2010.S0101.csv\")\n",
    "df[\"label\"] = df[\"Label (Grouping)\"].str.strip()\n",
    "df.to_csv(\"age_estimates_only.csv\", index=False)\n",
    "# print(df.head)\n",
    "\n",
    "dude = df.to_numpy()\n",
    "print(dude)"
   ]
  },
  {
   "cell_type": "code",
   "execution_count": 197,
   "id": "2036e789",
   "metadata": {},
   "outputs": [],
   "source": [
    "import pandas as pd\n",
    "import numpy as np\n",
    "import re\n",
    "\n",
    "def build_state_age_matrix(csv_path):\n",
    "    df = pd.read_csv(csv_path)\n",
    "    df[\"label\"] = df[\"Label (Grouping)\"].str.strip()\n",
    "    # --- 1. keep the 18 \"simple\" age rows -----------------------------\n",
    "    age_rows = df[df[\"Label (Grouping)\"].str.match(r\"^\\s{4}(Under|\\d)\")].iloc[:18]\n",
    "    age_labels = age_rows[\"Label (Grouping)\"].str.strip().tolist()\n",
    "\n",
    "    tot_cols = df.filter(regex=r\"!!Total!!Estimate$\").columns\n",
    "    states = [c.split(\"!!\")[0] for c in tot_cols]  # strip \"!!Total!!Estimate\"\n",
    "\n",
    "    # --- 3. convert to floats and reshape -----------------------------\n",
    "    age_pct_df = (\n",
    "        age_rows[tot_cols]\n",
    "        .apply(lambda s: s.str.rstrip(\"%\").astype(float))  # strip % → float\n",
    "        .T                                                 # states become rows\n",
    "        .reset_index(drop=True)\n",
    "    )\n",
    "    age_mat = age_pct_df.to_numpy(dtype=float)  # (52, 18)\n",
    "    age_mat *= .01\n",
    "    return age_mat, states, age_labels\n",
    "\n",
    "def multiply_percentages_and_totals(age_matrix, csv_path):\n",
    "    df = pd.read_csv(csv_path)\n",
    "    # total-population counts for each state (row 0 of each *!!Total!!Estimate column)\n",
    "    totals = (\n",
    "        df.filter(regex=r\"!!Total!!Estimate$\").iloc[0]\n",
    "        .str.replace(\",\", \"\").astype(int)\n",
    "        .to_numpy()                                           # shape (52,)\n",
    "    )\n",
    "    # broadcast: (52, 1) * (52, 18) → (52, 18)\n",
    "    counts = totals[:, None] * age_matrix\n",
    "    return counts, totals\n",
    "# print(state_names[:5])    # ['Alabama', 'Alaska', 'Arizona', 'Arkansas', 'California']\n",
    "# print(age_groups)         # ['Under 5 years', '5 to 9 years', ... '85 years and over']\n",
    "\n",
    "# age_matrix, state_names, age_groups = build_state_age_matrix(\"data/ACSST1Y2010.S0101.csv\")\n",
    "# multiplied, totals = multiply_percentages_and_totals(age_matrix, \"data/ACSST1Y2010.S0101.csv\")\n",
    "# print(multiplied.shape) # 52 x 18, what I want is 9 x 52 x 18\n",
    "\n",
    "## years 2010-2016 all have a percentage for individual totals, after that they just store the actual totals\n",
    "\n",
    "def age_totals_no_percentage(csv_path):\n",
    "    df = pd.read_csv(csv_path)\n",
    "    age_rows = df[df[\"Label (Grouping)\"].str.match(r\"^\\s{4}(Under|\\d)\")].iloc[:18]\n",
    "    age_labels = age_rows[\"Label (Grouping)\"].str.strip().tolist()\n",
    "    tot_cols = df.filter(regex=r\"!!Total!!Estimate$\").columns\n",
    "    states = [c.split(\"!!\")[0] for c in tot_cols]  # strip \"!!Total!!Estimate\"\n",
    "    # print(states)\n",
    "    # print(len(states))\n",
    "    age_matrix = df[tot_cols]\n",
    "    age_matrix = age_matrix.iloc[2:20:] ##\n",
    "    age_matrix = age_matrix.to_numpy() # (18 x 52). Rows are the age-group-defined totals, and columns are the states in alphabetical order\n",
    "    for r in range(len(age_matrix)):\n",
    "        for c in range(len(age_matrix[r])):\n",
    "            age_matrix[r][c] = int(age_matrix[r][c].replace(\",\", \"\"))\n",
    "    return age_matrix.T # (52x18) np array that represents the int populations for the 52 states\n",
    "\n",
    "def populate_training_array(): # (2, 13, 1, 52)\n",
    "    train_array = np.zeros((10, 52, 18))\n",
    "    test_array = np.zeros((3, 52, 18)) #2021-2023\n",
    "    # returned = np.array((6, ))\n",
    "    i = 10\n",
    "    train_index = 0\n",
    "    test_index = 0\n",
    "    file_path_prefix = \"data/ACSST1Y20\"\n",
    "    while (i <= 16):\n",
    "        path_string = file_path_prefix + str(i) + \".S0101.csv\"\n",
    "        age_matrix, state_names, age_groups = build_state_age_matrix(path_string)\n",
    "        multiplied, totals = multiply_percentages_and_totals(age_matrix, path_string)\n",
    "        # print(train_index)\n",
    "        # print(f\"year = {i} | train index = {train_index}\")\n",
    "        train_array[train_index] = multiplied\n",
    "        train_index += 1\n",
    "        i += 1\n",
    "    while (i <= 20):\n",
    "        if (i == 20):\n",
    "            i += 1\n",
    "            break\n",
    "        path_string = file_path_prefix + str(i) + \".S0101.csv\"\n",
    "        age_matrix = age_totals_no_percentage(path_string)\n",
    "        # print(train_index)\n",
    "        # print(f\"year = {i} | train index = {train_index}\")\n",
    "        # print(f\"train index = {train_index}\")\n",
    "        train_array[train_index] = age_matrix\n",
    "        train_index += 1\n",
    "        i += 1\n",
    "    print(\"------------------------------------------------\")\n",
    "    while i <= 23:\n",
    "        path_string = file_path_prefix + str(i) + \".S0101.csv\"\n",
    "        age_matrix = age_totals_no_percentage(path_string)\n",
    "        # print(test_index)\n",
    "        # print(f\"year = {i} | test index = {test_index}\")\n",
    "        test_array[test_index] = age_matrix\n",
    "        test_index += 1\n",
    "        i += 1\n",
    "    print(f\"Training array shape = {train_array.shape}\")\n",
    "    print(f\"Test array shape = {test_array.shape}\")\n",
    "\n",
    "    return train_array, test_array\n",
    "\n",
    "\n",
    "# age_totals_no_percentage(\"data/ACSST1Y2017.S0101.csv\")"
   ]
  },
  {
   "cell_type": "markdown",
   "id": "dbe70888",
   "metadata": {},
   "source": [
    "Now that I've fucked around enough, I can make methods to repeatedly pass shit in and filter it out."
   ]
  },
  {
   "cell_type": "code",
   "execution_count": 198,
   "id": "d8fc42d0",
   "metadata": {},
   "outputs": [
    {
     "name": "stdout",
     "output_type": "stream",
     "text": [
      "------------------------------------------------\n",
      "Training array shape = (10, 52, 18)\n",
      "Test array shape = (3, 52, 18)\n",
      "(416, 18)\n",
      "(416, 18)\n",
      "(2, 52, 18)\n"
     ]
    }
   ],
   "source": [
    "train_array, test_array = populate_training_array()\n",
    "# train array = (10, 52, 18). meaning (years 10-19, 52 states, 18 age ranges)\n",
    "# tets array = (3, 52, 18). meaning (years 21-23, 52 states, 18 age ranges)\n",
    "x = train_array[:8]\n",
    "y = train_array[1:9]\n",
    "x =  x.reshape((8 * 52), 18)\n",
    "y = y.reshape((8 * 52), 18)\n",
    "print(x.shape)\n",
    "print(y.shape)\n",
    "test_x = test_array[:2]\n",
    "test_y = test_array[1:3]\n",
    "print(test_x.shape)\n",
    "test_x = test_x.reshape((2*52), 18)\n",
    "y_actual = test_array[1:3]\n",
    "y_actual = y_actual.reshape((2 * 52), 18)\n",
    "\n",
    "def rel_error_for_alpha(a):\n",
    "    model = sklearn.linear_model.Ridge(alpha=a, fit_intercept=True)\n",
    "    model.fit(x, y)\n",
    "    y_pred   = model.predict(test_x)          # (104, 18)\n",
    "    y_actual = test_y.reshape(104, 18)        # the same shape\n",
    "    rel_error = np.mean(np.abs(y_pred - y_actual) / y_actual)\n",
    "    return rel_error\n"
   ]
  },
  {
   "cell_type": "markdown",
   "id": "dba39afc",
   "metadata": {},
   "source": [
    "Now that I am able to populate the training and testing arrays for the values, I need to test the relative error for the different values of alpha.\n"
   ]
  },
  {
   "cell_type": "code",
   "execution_count": 199,
   "id": "a9d7f616",
   "metadata": {},
   "outputs": [
    {
     "name": "stdout",
     "output_type": "stream",
     "text": [
      "------------------------------------------------\n",
      "Training array shape = (10, 52, 18)\n",
      "Test array shape = (3, 52, 18)\n",
      "After running the sweep, I know the best alpha is :100000000.0 with rel_e= 0.03346860331278655\n"
     ]
    },
    {
     "data": {
      "text/plain": [
       "Text(0.5, 1.0, 'Ridge coefficients (α = 1e+08)')"
      ]
     },
     "execution_count": 199,
     "metadata": {},
     "output_type": "execute_result"
    },
    {
     "data": {
      "image/png": "[encoded data removed]",
      "text/plain": [
       "<Figure size 600x600 with 2 Axes>"
      ]
     },
     "metadata": {},
     "output_type": "display_data"
    }
   ],
   "source": [
    "populate_training_array()  \n",
    "\n",
    "alphas_rel_error = {}\n",
    "min_rel_e = 10000\n",
    "a = 0.001\n",
    "while (a < 100000000000):\n",
    "    relative_error = rel_error_for_alpha(a)\n",
    "    # alphas_rel_error.append((a, relative_error))\n",
    "    alphas_rel_error[a] = relative_error\n",
    "    if (relative_error < min_rel_e):\n",
    "        min_rel_e = relative_error\n",
    "        best_alpha = a\n",
    "        \n",
    "    a *= 10\n",
    "print(f\"After running the sweep, I know the best alpha is :{best_alpha} with rel_e= {alphas_rel_error[best_alpha]}\")\n",
    "\n",
    "\n",
    "\n",
    "# # ---- nicer plot --------------------------------------------------------\n",
    "# alphas = np.array(sorted(alphas_rel_error))               # shape (K,)\n",
    "# errors = np.array([alphas_rel_error[a] for a in alphas])  # shape (K,)\n",
    "\n",
    "# fig, ax = plt.subplots(figsize=(6,4))\n",
    "# ax.semilogx(alphas, errors, marker='o', linewidth=2)      # log-x\n",
    "# ax.set_xlabel(r\"Ridge penalty  $\\alpha$ (log scale)\")\n",
    "# ax.set_ylabel(\"Mean relative error\")\n",
    "# ax.set_title(\"α sweep for Ridge model\")\n",
    "\n",
    "# # highlight the minimum\n",
    "# idx_best = np.argmin(errors)\n",
    "# ax.plot(alphas[idx_best], errors[idx_best], 'ro')         # red dot\n",
    "# ax.annotate(f\"best\\nα={alphas[idx_best]:.3g}\\nMRE={errors[idx_best]:.4f}\",\n",
    "#             xy=(alphas[idx_best], errors[idx_best]),\n",
    "#             xytext=(0, 10), textcoords=\"offset points\",\n",
    "#             ha='center', color='red')\n",
    "\n",
    "# ax.grid(True, which=\"both\", ls='--', alpha=0.6)\n",
    "# plt.tight_layout()\n",
    "# plt.show()\n",
    "\n",
    "import matplotlib.pyplot as plt\n",
    "plt.figure(figsize=(6,6))\n",
    "plt.matshow(model.coef_, fignum=0)\n",
    "plt.colorbar()\n",
    "plt.xlabel('Input age bucket t')\n",
    "plt.ylabel('Output age bucket t+1')\n",
    "plt.title('Ridge coefficients (α = %g)' % best_alpha)\n",
    "\n",
    "\n",
    "# Display the plot\n",
    "# plt.show()"
   ]
  }
 ],
 "metadata": {
  "kernelspec": {
   "display_name": "Mussman",
   "language": "python",
   "name": "python3"
  },
  "language_info": {
   "codemirror_mode": {
    "name": "ipython",
    "version": 3
   },
   "file_extension": ".py",
   "mimetype": "text/x-python",
   "name": "python",
   "nbconvert_exporter": "python",
   "pygments_lexer": "ipython3",
   "version": "3.13.5"
  }
 },
 "nbformat": 4,
 "nbformat_minor": 5
}
